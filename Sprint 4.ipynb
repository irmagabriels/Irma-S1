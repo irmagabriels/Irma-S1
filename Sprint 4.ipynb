{
 "cells": [
  {
   "cell_type": "code",
   "execution_count": 56,
   "metadata": {},
   "outputs": [
    {
     "name": "stdout",
     "output_type": "stream",
     "text": [
      "{'_id': ObjectId('5e56256b12b10e1138871515'), 'Labels': '1', 'Catergories': 'Chips', 'Brands': 'Simba 125g', 'Cost Price': '8', 'Prices': '16', 'Stock': '50', 'Brands Sold for Month': '45', 'Profit': '384', 'Barcode': '1000456'}\n",
      "{'_id': ObjectId('5e56256b12b10e1138871516'), 'Labels': '2', 'Catergories': 'Chips', 'Brands': 'Lays 125g', 'Cost Price': '9', 'Prices': '18', 'Stock': '50', 'Brands Sold for Month': '50', 'Profit': '450', 'Barcode': '1000457'}\n",
      "{'_id': ObjectId('5e56256b12b10e1138871517'), 'Labels': '3', 'Catergories': 'Chips', 'Brands': 'Doritos 125g', 'Cost Price': '8', 'Prices': '16', 'Stock': '50', 'Brands Sold for Month': '48', 'Profit': '384', 'Barcode': '1000458'}\n",
      "{'_id': ObjectId('5e56256b12b10e1138871518'), 'Labels': '4', 'Catergories': 'Cooldrink', 'Brands': 'Coke 2lt', 'Cost Price': '10', 'Prices': '20', 'Stock': '100', 'Brands Sold for Month': '100', 'Profit': '1000', 'Barcode': '1212133'}\n",
      "{'_id': ObjectId('5e56256b12b10e1138871519'), 'Labels': '5', 'Catergories': 'Cooldrink', 'Brands': 'Fanta 2lt', 'Cost Price': '9', 'Prices': '18', 'Stock': '100', 'Brands Sold for Month': '90', 'Profit': '810', 'Barcode': '1212134'}\n",
      "{'_id': ObjectId('5e56256b12b10e113887151a'), 'Labels': '6', 'Catergories': 'Cooldrink', 'Brands': 'Sprite 2lt', 'Cost Price': '9', 'Prices': '18', 'Stock': '100', 'Brands Sold for Month': '98', 'Profit': '882', 'Barcode': '1212135'}\n",
      "{'_id': ObjectId('5e56256b12b10e113887151b'), 'Labels': '7', 'Catergories': 'Chocolates', 'Brands': 'Cadbury 50g', 'Cost Price': '5', 'Prices': '10', 'Stock': '50', 'Brands Sold for Month': '48', 'Profit': '192', 'Barcode': '9977881'}\n",
      "{'_id': ObjectId('5e56256b12b10e113887151c'), 'Labels': '8', 'Catergories': 'Chocolates', 'Brands': 'Tex 50g', 'Cost Price': '5', 'Prices': '10', 'Stock': '50', 'Brands Sold for Month': '50', 'Profit': '250', 'Barcode': '9977882'}\n",
      "{'_id': ObjectId('5e56256b12b10e113887151d'), 'Labels': '9', 'Catergories': 'Chocolates', 'Brands': 'PS 50g', 'Cost Price': '5', 'Prices': '10', 'Stock': '50', 'Brands Sold for Month': '38', 'Profit': '190', 'Barcode': '9977883'}\n",
      "{'_id': ObjectId('5e56256b12b10e113887151e'), 'Labels': '10', 'Catergories': 'Pies', 'Brands': 'Pepper Steak', 'Cost Price': '10', 'Prices': '20', 'Stock': '40', 'Brands Sold for Month': '39', 'Profit': '390', 'Barcode': '4745152'}\n",
      "{'_id': ObjectId('5e56256b12b10e113887151f'), 'Labels': '11', 'Catergories': 'Pies', 'Brands': 'Chicken', 'Cost Price': '8', 'Prices': '16', 'Stock': '40', 'Brands Sold for Month': '30', 'Profit': '240', 'Barcode': '4745153'}\n",
      "{'_id': ObjectId('5e56256b12b10e1138871520'), 'Labels': '12', 'Catergories': 'Pies', 'Brands': 'Steak & Kidney', 'Cost Price': '10', 'Prices': '20', 'Stock': '40', 'Brands Sold for Month': '40', 'Profit': '400', 'Barcode': '4745154'}\n",
      "{'_id': ObjectId('5e56256b12b10e1138871521'), 'Labels': '13', 'Catergories': 'Fruit', 'Brands': 'Pear', 'Cost Price': '6', 'Prices': '12', 'Stock': '50', 'Brands Sold for Month': '45', 'Profit': '270', 'Barcode': '1111119'}\n",
      "{'_id': ObjectId('5e56256b12b10e1138871522'), 'Labels': '14', 'Catergories': 'Fruit', 'Brands': 'Apple', 'Cost Price': '6', 'Prices': '12', 'Stock': '50', 'Brands Sold for Month': '40', 'Profit': '240', 'Barcode': '1111118'}\n",
      "{'_id': ObjectId('5e56256b12b10e1138871523'), 'Labels': '15', 'Catergories': 'Fruit', 'Brands': 'Orange', 'Cost Price': '5', 'Prices': '10', 'Stock': '50', 'Brands Sold for Month': '39', 'Profit': '195', 'Barcode': '1111117'}\n",
      "{'_id': ObjectId('5e56256b12b10e1138871524'), 'Labels': '16', 'Catergories': 'Cupcakes', 'Brands': 'Chocolate (6)', 'Cost Price': '9', 'Prices': '18', 'Stock': '100', 'Brands Sold for Month': '95', 'Profit': '1710', 'Barcode': '1238542'}\n",
      "{'_id': ObjectId('5e56256b12b10e1138871525'), 'Labels': '17', 'Catergories': 'Cupcakes', 'Brands': 'Vanilla (6)', 'Cost Price': '7', 'Prices': '14', 'Stock': '100', 'Brands Sold for Month': '80', 'Profit': '560', 'Barcode': '1238543'}\n",
      "{'_id': ObjectId('5e56256b12b10e1138871526'), 'Labels': '18', 'Catergories': 'Cupcakes', 'Brands': 'Blueberry (6)', 'Cost Price': '10', 'Prices': '20', 'Stock': '100', 'Brands Sold for Month': '100', 'Profit': '1000', 'Barcode': '1238544'}\n",
      "{'_id': ObjectId('5e56256b12b10e1138871527'), 'Labels': '19', 'Catergories': 'Veg', 'Brands': 'Spinach', 'Cost Price': '8', 'Prices': '16', 'Stock': '30', 'Brands Sold for Month': '25', 'Profit': '200', 'Barcode': '7859423'}\n",
      "{'_id': ObjectId('5e56256b12b10e1138871528'), 'Labels': '20', 'Catergories': 'Veg', 'Brands': 'Cabbage', 'Cost Price': '8', 'Prices': '16', 'Stock': '30', 'Brands Sold for Month': '30', 'Profit': '240', 'Barcode': '7859424'}\n",
      "{'_id': ObjectId('5e56256b12b10e1138871529'), 'Labels': '21', 'Catergories': 'Veg', 'Brands': 'Tomato', 'Cost Price': '5', 'Prices': '10', 'Stock': '30', 'Brands Sold for Month': '30', 'Profit': '150', 'Barcode': '7859425'}\n",
      "{'_id': ObjectId('5e56256b12b10e113887152a'), 'Labels': '22', 'Catergories': 'Veg', 'Brands': 'Carrots', 'Cost Price': '5', 'Prices': '10', 'Stock': '30', 'Brands Sold for Month': '30', 'Profit': '150', 'Barcode': '1501236'}\n",
      "{'_id': ObjectId('5e56256b12b10e113887152b'), 'Labels': '', 'Catergories': None, 'Brands': None, 'Cost Price': None, 'Prices': None, 'Stock': None, 'Brands Sold for Month': None, 'Profit': None, 'Barcode': None}\n"
     ]
    }
   ],
   "source": [
    "#Create a Database \n",
    "import pymongo\n",
    "import pandas as pd\n",
    "myclient = pymongo.MongoClient(\"mongodb://localhost:27017/\")\n",
    "mydb = myclient[\"Data_Tracker\"]\n",
    "\n",
    "#Import table in Mongo and use find to see table info \n",
    "my = mydb[\"customers\"]\n",
    "for x in my.find():\n",
    "    print(x)"
   ]
  },
  {
   "cell_type": "code",
   "execution_count": 31,
   "metadata": {},
   "outputs": [],
   "source": [
    "#3. Manually Created top 3 therefore top 3 was manually created caused all brands for the month was sold out\n",
    "mycol = mydb[\"Data_Tracker\"]\n",
    "mycol = mydb[\"Top 3\"] \n",
    "mylist = [\n",
    "  { \"Labels\": 4, \"Catergories\": \"Chips\", \"Brands\": \"Lays 125g\", \"Cost Price\": 9, \"Prices\": 18, \"Stock\": 50, \"Brands Sold for Month\": 50, \"Profit\": 450, \"Barcode\": 1000456},             \n",
    "  { \"Labels\": 18, \"Catergories\": \"Cupcakes\", \"Brands\": \"Blueberry\", \"Cost Price\": 10, \"Prices\": 20, \"Stock\": 100, \"Brands Sold for Month\": 100, \"Profit\": 1000, \"Barcode\": 1238544},\n",
    "  { \"Labels\": 21, \"Catergories\": \"Veg\", \"Brands\": \"Tomato\", \"Cost Price\": 5, \"Prices\": 10, \"Stock\": 30, \"Brands Sold for Month\": 30, \"Profit\": 150, \"Barcode\": 7859425}\n",
    "    ]\n",
    "x = mycol.insert_many(mylist)"
   ]
  },
  {
   "cell_type": "code",
   "execution_count": 59,
   "metadata": {},
   "outputs": [
    {
     "name": "stdout",
     "output_type": "stream",
     "text": [
      "<pymongo.results.InsertManyResult object at 0x000001C141C7D908>\n"
     ]
    }
   ],
   "source": [
    "# 4. Two new muliple documents were added \n",
    "mycol = mydb[\"Data_Tracker\"]\n",
    "mycol = mydb[\"Top 3\"] \n",
    "mylist = [\n",
    "  { \"Labels\": 24, \"Catergories\": \"Veg\", \"Brands\": \"Patatoes\", \"Cost Price\": 5, \"Prices\": 10, \"Stock\": 50, \"Brands Sold for Month\": 49, \"Profit\": 490, \"Barcode\": 1084154},             \n",
    "  { \"Labels\": 25, \"Catergories\": \"Veg\", \"Brands\": \"Pumpkin\", \"Cost Price\": 10, \"Prices\": 20, \"Stock\": 50, \"Brands Sold for Month\": 48, \"Profit\": 480, \"Barcode\": 1238588}\n",
    "    ]\n",
    "x = mycol.insert_many(mylist)\n",
    "\n",
    "#print list of the _id values of the inserted documents:\n",
    "print(x) "
   ]
  },
  {
   "cell_type": "code",
   "execution_count": 57,
   "metadata": {},
   "outputs": [
    {
     "name": "stdout",
     "output_type": "stream",
     "text": [
      "{'_id': ObjectId('5e56256b12b10e1138871525'), 'Labels': '17', 'Catergories': 'Cupcakes', 'Brands': 'Vanilla (6)', 'Cost Price': '7', 'Prices': '14', 'Stock': '100', 'Brands Sold for Month': '80', 'Profit': '560', 'Barcode': '1238543'}\n",
      "{'_id': ObjectId('5e56256b12b10e1138871529'), 'Labels': '21', 'Catergories': 'Veg', 'Brands': 'Tomato', 'Cost Price': '5', 'Prices': '10', 'Stock': '30', 'Brands Sold for Month': '30', 'Profit': '150', 'Barcode': '7859425'}\n",
      "{'_id': ObjectId('5e56256b12b10e113887151c'), 'Labels': '8', 'Catergories': 'Chocolates', 'Brands': 'Tex 50g', 'Cost Price': '5', 'Prices': '10', 'Stock': '50', 'Brands Sold for Month': '50', 'Profit': '250', 'Barcode': '9977882'}\n",
      "{'_id': ObjectId('5e56256b12b10e1138871520'), 'Labels': '12', 'Catergories': 'Pies', 'Brands': 'Steak & Kidney', 'Cost Price': '10', 'Prices': '20', 'Stock': '40', 'Brands Sold for Month': '40', 'Profit': '400', 'Barcode': '4745154'}\n",
      "{'_id': ObjectId('5e56256b12b10e113887151a'), 'Labels': '6', 'Catergories': 'Cooldrink', 'Brands': 'Sprite 2lt', 'Cost Price': '9', 'Prices': '18', 'Stock': '100', 'Brands Sold for Month': '98', 'Profit': '882', 'Barcode': '1212135'}\n",
      "{'_id': ObjectId('5e56256b12b10e1138871527'), 'Labels': '19', 'Catergories': 'Veg', 'Brands': 'Spinach', 'Cost Price': '8', 'Prices': '16', 'Stock': '30', 'Brands Sold for Month': '25', 'Profit': '200', 'Barcode': '7859423'}\n",
      "{'_id': ObjectId('5e56256b12b10e1138871515'), 'Labels': '1', 'Catergories': 'Chips', 'Brands': 'Simba 125g', 'Cost Price': '8', 'Prices': '16', 'Stock': '50', 'Brands Sold for Month': '45', 'Profit': '384', 'Barcode': '1000456'}\n",
      "{'_id': ObjectId('5e56256b12b10e113887151e'), 'Labels': '10', 'Catergories': 'Pies', 'Brands': 'Pepper Steak', 'Cost Price': '10', 'Prices': '20', 'Stock': '40', 'Brands Sold for Month': '39', 'Profit': '390', 'Barcode': '4745152'}\n",
      "{'_id': ObjectId('5e56256b12b10e1138871521'), 'Labels': '13', 'Catergories': 'Fruit', 'Brands': 'Pear', 'Cost Price': '6', 'Prices': '12', 'Stock': '50', 'Brands Sold for Month': '45', 'Profit': '270', 'Barcode': '1111119'}\n",
      "{'_id': ObjectId('5e56256b12b10e113887151d'), 'Labels': '9', 'Catergories': 'Chocolates', 'Brands': 'PS 50g', 'Cost Price': '5', 'Prices': '10', 'Stock': '50', 'Brands Sold for Month': '38', 'Profit': '190', 'Barcode': '9977883'}\n",
      "{'_id': ObjectId('5e56256b12b10e1138871523'), 'Labels': '15', 'Catergories': 'Fruit', 'Brands': 'Orange', 'Cost Price': '5', 'Prices': '10', 'Stock': '50', 'Brands Sold for Month': '39', 'Profit': '195', 'Barcode': '1111117'}\n",
      "{'_id': ObjectId('5e56256b12b10e1138871516'), 'Labels': '2', 'Catergories': 'Chips', 'Brands': 'Lays 125g', 'Cost Price': '9', 'Prices': '18', 'Stock': '50', 'Brands Sold for Month': '50', 'Profit': '450', 'Barcode': '1000457'}\n",
      "{'_id': ObjectId('5e56256b12b10e1138871519'), 'Labels': '5', 'Catergories': 'Cooldrink', 'Brands': 'Fanta 2lt', 'Cost Price': '9', 'Prices': '18', 'Stock': '100', 'Brands Sold for Month': '90', 'Profit': '810', 'Barcode': '1212134'}\n",
      "{'_id': ObjectId('5e56256b12b10e1138871517'), 'Labels': '3', 'Catergories': 'Chips', 'Brands': 'Doritos 125g', 'Cost Price': '8', 'Prices': '16', 'Stock': '50', 'Brands Sold for Month': '48', 'Profit': '384', 'Barcode': '1000458'}\n",
      "{'_id': ObjectId('5e56256b12b10e1138871518'), 'Labels': '4', 'Catergories': 'Cooldrink', 'Brands': 'Coke 2lt', 'Cost Price': '10', 'Prices': '20', 'Stock': '100', 'Brands Sold for Month': '100', 'Profit': '1000', 'Barcode': '1212133'}\n",
      "{'_id': ObjectId('5e56256b12b10e1138871524'), 'Labels': '16', 'Catergories': 'Cupcakes', 'Brands': 'Chocolate (6)', 'Cost Price': '9', 'Prices': '18', 'Stock': '100', 'Brands Sold for Month': '95', 'Profit': '1710', 'Barcode': '1238542'}\n",
      "{'_id': ObjectId('5e56256b12b10e113887151f'), 'Labels': '11', 'Catergories': 'Pies', 'Brands': 'Chicken', 'Cost Price': '8', 'Prices': '16', 'Stock': '40', 'Brands Sold for Month': '30', 'Profit': '240', 'Barcode': '4745153'}\n",
      "{'_id': ObjectId('5e56256b12b10e113887152a'), 'Labels': '22', 'Catergories': 'Veg', 'Brands': 'Carrots', 'Cost Price': '5', 'Prices': '10', 'Stock': '30', 'Brands Sold for Month': '30', 'Profit': '150', 'Barcode': '1501236'}\n",
      "{'_id': ObjectId('5e56256b12b10e113887151b'), 'Labels': '7', 'Catergories': 'Chocolates', 'Brands': 'Cadbury 50g', 'Cost Price': '5', 'Prices': '10', 'Stock': '50', 'Brands Sold for Month': '48', 'Profit': '192', 'Barcode': '9977881'}\n",
      "{'_id': ObjectId('5e56256b12b10e1138871528'), 'Labels': '20', 'Catergories': 'Veg', 'Brands': 'Cabbage', 'Cost Price': '8', 'Prices': '16', 'Stock': '30', 'Brands Sold for Month': '30', 'Profit': '240', 'Barcode': '7859424'}\n",
      "{'_id': ObjectId('5e56256b12b10e1138871526'), 'Labels': '18', 'Catergories': 'Cupcakes', 'Brands': 'Blueberry (6)', 'Cost Price': '10', 'Prices': '20', 'Stock': '100', 'Brands Sold for Month': '100', 'Profit': '1000', 'Barcode': '1238544'}\n",
      "{'_id': ObjectId('5e56256b12b10e1138871522'), 'Labels': '14', 'Catergories': 'Fruit', 'Brands': 'Apple', 'Cost Price': '6', 'Prices': '12', 'Stock': '50', 'Brands Sold for Month': '40', 'Profit': '240', 'Barcode': '1111118'}\n",
      "{'_id': ObjectId('5e56256b12b10e113887152b'), 'Labels': '', 'Catergories': None, 'Brands': None, 'Cost Price': None, 'Prices': None, 'Stock': None, 'Brands Sold for Month': None, 'Profit': None, 'Barcode': None}\n"
     ]
    }
   ],
   "source": [
    "#5. Descending\n",
    "mydoc = my.find().sort(\"Brands\", -1)\n",
    "for x in mydoc:\n",
    "    print(x)"
   ]
  },
  {
   "cell_type": "code",
   "execution_count": 60,
   "metadata": {},
   "outputs": [
    {
     "name": "stdout",
     "output_type": "stream",
     "text": [
      "{'_id': ObjectId('5e565e22d7f9a845c0176a78'), 'Labels': 4, 'Catergories': 'Chips', 'Brands': 'Lays 125g', 'Cost Price': 9, 'Prices': 18, 'Stock': 50, 'Brands Sold for Month': 50, 'Profit': 450, 'Barcode': 1000456}\n",
      "{'_id': ObjectId('5e565e22d7f9a845c0176a79'), 'Labels': 18, 'Catergories': 'Cupcakes', 'Brands': 'Blueberry', 'Cost Price': 10, 'Prices': 20, 'Stock': 100, 'Brands Sold for Month': 100, 'Profit': 1000, 'Barcode': 1238544}\n",
      "{'_id': ObjectId('5e5660e1d7f9a845c0176a7f'), 'Labels': 21, 'Catergories': 'Veg', 'Brands': 'Tomato', 'Cost Price': 5, 'Prices': 10, 'Stock': 30, 'Brands Sold for Month': 30, 'Profit': 150, 'Barcode': 7859425}\n",
      "{'_id': ObjectId('5e566b4bd7f9a845c0176a86'), 'Labels': 24, 'Catergories': 'Veg', 'Brands': 'Patatoes', 'Cost Price': 5, 'Prices': 10, 'Stock': 50, 'Brands Sold for Month': 49, 'Profit': 490, 'Barcode': 1084154}\n"
     ]
    }
   ],
   "source": [
    "#6 Delete 2 brands \n",
    "myquery = { \"Brands\": \"Pumpkin\" }\n",
    "mycol.delete_one(myquery)\n",
    "#Print customer collection afer the deletion\n",
    "for x in mycol.find():\n",
    "    print(x)"
   ]
  },
  {
   "cell_type": "code",
   "execution_count": 63,
   "metadata": {},
   "outputs": [
    {
     "name": "stdout",
     "output_type": "stream",
     "text": [
      "{'_id': ObjectId('5e565e22d7f9a845c0176a78'), 'Labels': 4, 'Catergories': 'Chips', 'Brands': 'Lays 125g', 'Cost Price': 9, 'Prices': 18, 'Stock': 50, 'Brands Sold for Month': 50, 'Profit': 450, 'Barcode': 1000456}\n",
      "{'_id': ObjectId('5e565e22d7f9a845c0176a79'), 'Labels': 18, 'Catergories': 'Cupcakes', 'Brands': 'Blueberry', 'Cost Price': 10, 'Prices': 20, 'Stock': 100, 'Brands Sold for Month': 100, 'Profit': 1000, 'Barcode': 1238544}\n",
      "{'_id': ObjectId('5e5660e1d7f9a845c0176a7f'), 'Labels': 21, 'Catergories': 'Veg', 'Brands': 'Tomato', 'Cost Price': 5, 'Prices': 10, 'Stock': 30, 'Brands Sold for Month': 30, 'Profit': 150, 'Barcode': 7859425}\n"
     ]
    }
   ],
   "source": [
    "myquery = { \"Brands\": \"Patatoes\" }\n",
    "mycol.delete_one(myquery)\n",
    "#Print customer collection afer the deletion\n",
    "for x in mycol.find():\n",
    "    print(x)"
   ]
  },
  {
   "cell_type": "code",
   "execution_count": 70,
   "metadata": {},
   "outputs": [
    {
     "name": "stdout",
     "output_type": "stream",
     "text": [
      "{'_id': ObjectId('5e565e22d7f9a845c0176a78'), 'Labels': 4, 'Catergories': 'Chips', 'Brands': 'Lays 125g', 'Cost Price': 9, 'Prices': 18, 'Stock': 50, 'Brands Sold for Month': 50, 'Profit': 450, 'Barcode': 1000456}\n",
      "{'_id': ObjectId('5e565e22d7f9a845c0176a79'), 'Labels': 18, 'Catergories': 'Cupcakes', 'Brands': 'Cappuccino', 'Cost Price': 10, 'Prices': 20, 'Stock': 100, 'Brands Sold for Month': 100, 'Profit': 1000, 'Barcode': 1238544}\n",
      "{'_id': ObjectId('5e5660e1d7f9a845c0176a7f'), 'Labels': 21, 'Catergories': 'Veg', 'Brands': 'Tomato', 'Cost Price': 5, 'Prices': 10, 'Stock': 30, 'Brands Sold for Month': 30, 'Profit': 150, 'Barcode': 7859425}\n"
     ]
    }
   ],
   "source": [
    "# 7. Update 1 product \n",
    "myquery = { \"Brands\": \"Blueberry\" }\n",
    "newvalues = {\"$set\": {\"Brands\": \"Cappuccino\"}}\n",
    "mycol.update_one(myquery, newvalues)\n",
    "#print \"customers after the update\":\n",
    "for x in mycol.find():\n",
    "    print(x)"
   ]
  },
  {
   "cell_type": "code",
   "execution_count": 94,
   "metadata": {},
   "outputs": [
    {
     "name": "stdout",
     "output_type": "stream",
     "text": [
      "{'_id': ObjectId('5e56256b12b10e113887151b'), 'Labels': '7', 'Catergories': 'Chocolates', 'Brands': 'Cadbury 50g', 'Cost Price': '5', 'Prices': '10', 'Stock': '50', 'Brands Sold for Month': '48', 'Profit': '192', 'Barcode': '9977881'}\n",
      "{'_id': ObjectId('5e56256b12b10e113887151c'), 'Labels': '8', 'Catergories': 'Chocolates', 'Brands': 'Tex 50g', 'Cost Price': '5', 'Prices': '10', 'Stock': '50', 'Brands Sold for Month': '50', 'Profit': '250', 'Barcode': '9977882'}\n",
      "{'_id': ObjectId('5e56256b12b10e113887151d'), 'Labels': '9', 'Catergories': 'Chocolates', 'Brands': 'PS 50g', 'Cost Price': '5', 'Prices': '10', 'Stock': '50', 'Brands Sold for Month': '38', 'Profit': '190', 'Barcode': '9977883'}\n",
      "{'_id': ObjectId('5e56256b12b10e1138871529'), 'Labels': '21', 'Catergories': 'Veg', 'Brands': 'Tomato', 'Cost Price': '5', 'Prices': '10', 'Stock': '30', 'Brands Sold for Month': '30', 'Profit': '150', 'Barcode': '7859425'}\n",
      "{'_id': ObjectId('5e56256b12b10e113887152a'), 'Labels': '22', 'Catergories': 'Veg', 'Brands': 'Carrots', 'Cost Price': '5', 'Prices': '10', 'Stock': '30', 'Brands Sold for Month': '30', 'Profit': '150', 'Barcode': '1501236'}\n"
     ]
    }
   ],
   "source": [
    "#8. Filter the least 5 \n",
    "mycol = mydb[\"customers\"]\n",
    "myquery = ({ \"Prices\": { '$lte': '10' }}) #$lte less then equal\n",
    "mydoc = mycol.find(myquery)\n",
    "for x in mydoc:\n",
    "  print(x)"
   ]
  },
  {
   "cell_type": "code",
   "execution_count": null,
   "metadata": {},
   "outputs": [],
   "source": []
  }
 ],
 "metadata": {
  "kernelspec": {
   "display_name": "Python 3",
   "language": "python",
   "name": "python3"
  },
  "language_info": {
   "codemirror_mode": {
    "name": "ipython",
    "version": 3
   },
   "file_extension": ".py",
   "mimetype": "text/x-python",
   "name": "python",
   "nbconvert_exporter": "python",
   "pygments_lexer": "ipython3",
   "version": "3.7.4"
  }
 },
 "nbformat": 4,
 "nbformat_minor": 2
}
